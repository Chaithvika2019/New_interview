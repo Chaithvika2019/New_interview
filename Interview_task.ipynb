{
 "cells": [
  {
   "cell_type": "raw",
   "id": "29cc5ce8",
   "metadata": {},
   "source": [
    "1.what is python?\n",
    "Python is an interpreted , object_oriented , high level programming language with dynamic semantics.\n"
   ]
  },
  {
   "cell_type": "raw",
   "id": "9f96701c",
   "metadata": {},
   "source": [
    "2.Python is an interpreted language. Explain?\n",
    "Python is an interpreted language, which means the source code of a python program is converted into \n",
    "byte code that is then executed by the python virtual machine.\n"
   ]
  },
  {
   "cell_type": "raw",
   "id": "909585ff",
   "metadata": {},
   "source": [
    "3.What is the difference between Lists and Tuples?\n",
    "\tTUPLES                            LISTS\n",
    "a.\tTuples are immutable.          a. The lists are mutable.\n",
    "b.\tTuples cannot be changed.    b.Lists can be modified\n",
    "c.\tTuples are more memory.      c.lists are less memory\n",
    "\n"
   ]
  },
  {
   "cell_type": "raw",
   "id": "631955a7",
   "metadata": {},
   "source": [
    "4.what is PEP 8?\n",
    "PEP 8 is a document that provides guide lines and best practices on how to write python code.\n"
   ]
  },
  {
   "cell_type": "raw",
   "id": "828451de",
   "metadata": {},
   "source": [
    "5. How is memory managed  in python?\n",
    "Memory management in python involves a Private Heap containing all python objects and data structures.\n"
   ]
  },
  {
   "cell_type": "raw",
   "id": "086c3a8d",
   "metadata": {},
   "source": [
    "6.What are the key features of python?\n",
    "1.free and open source.\n",
    "2.Easy to code.\n",
    "3.Easy to read.\n",
    "4.Object_oriented language.\n",
    "5.Easy to debug.\n",
    "6.Extensible feature.\n",
    "7.High level language.\n",
    "8.GUI programming support.\n"
   ]
  },
  {
   "cell_type": "raw",
   "id": "8aaa0c39",
   "metadata": {},
   "source": [
    "7.What is PYTHON PATH?\n",
    "PYTHON PATH is an environment variable which you can set to add additional directories where python \n",
    "will look for modules and packages.\n"
   ]
  },
  {
   "cell_type": "raw",
   "id": "04ea32bf",
   "metadata": {},
   "source": [
    "8.What are Python modules?\n",
    "In python ,modules are simply files with the “.PY” extension containing python code that can be \n",
    "imported inside another python program.\n"
   ]
  },
  {
   "cell_type": "raw",
   "id": "a24969a4",
   "metadata": {},
   "source": [
    "9.Explain inheritance in python with an example?\n",
    "Inheritance relationship defines the classes that inherit from other classes as derived ,sub class, \n",
    "or sub_type classes.\n",
    "Example:  you have a base class of “Animal”, and a “Lion” is a Derived class. The inheritance will be\n",
    "Lion is an Animal.\n"
   ]
  },
  {
   "cell_type": "raw",
   "id": "61c22deb",
   "metadata": {},
   "source": [
    "10.What type of Language is Python ? programming or Scripting?\n",
    "Python is capable of Scripting, but in general sense, it is considered as a general_purose \n",
    "programming language.\n"
   ]
  },
  {
   "cell_type": "raw",
   "id": "6e8983b7",
   "metadata": {},
   "source": [
    "11.What is dynamically typed language?\n",
    "Python is an interpreted language, executes each statement line by line and thus type_cheking is \n",
    "done on the fly,during execution.Hence ,python is a Dynamically Typed language.\n"
   ]
  },
  {
   "cell_type": "raw",
   "id": "026b91ef",
   "metadata": {},
   "source": [
    "12.What is an interpreted language?\n",
    "An interpreted language executes its statements line by line. Languages such as Python,Java script,R,\n",
    "PHP,and Ruby are prime examples of interpreted language runs runs directly from the source code, with \n",
    "no intermediary compilation step.\n"
   ]
  },
  {
   "cell_type": "raw",
   "id": "a8158c3d",
   "metadata": {},
   "source": [
    "13.What is pass in Python?\n",
    "The Pass keyword represents a null operation in Python.\n",
    "It is generally used for the purpose of filling up empty blocks of code.\n",
    "Def my Empty Func():\n",
    "# do nothing\n",
    "Pass\n",
    "My Empty Func()                       # nothing happens\n",
    "# without the pass keyword.\n",
    "# file “<stdin>”, line 3\n",
    "# indentation error; excepted an indented block.\n"
   ]
  },
  {
   "cell_type": "raw",
   "id": "c4f24ff0",
   "metadata": {},
   "source": [
    "14.What are Global, Protected and Private attributes in python?\n",
    "Global: variables are public variables that are defined in \n",
    "The global scope. To use the variable in the global scope inside a function we use the “Global” \n",
    "keyword.\n",
    "Protected:  attributes are attributes defined with an Underscore prefixed to their identifier. \n",
    "    Eg: _Uma.\n",
    "Private: attributes are attributes with Double Underscore prefix to their identifier. Eg: __Uma. \n",
    "They cannot be accessed or modified from the outside directly and will result in an Attribute Error \n",
    "if such an attempt is made.\n"
   ]
  },
  {
   "cell_type": "raw",
   "id": "0727e6ca",
   "metadata": {},
   "source": [
    "15.What is the use of self in python?\n",
    "Self is used to represent the instance of the class. with this keyword, you can access the attributes\n",
    "and methods of the class in python. self is used in different\n",
    "places and often thought to be a keyword. But unlike in C++, self is not a keyword in python."
   ]
  },
  {
   "cell_type": "raw",
   "id": "dc717a1d",
   "metadata": {},
   "source": [
    "16.What is __ init __?\n",
    "__ init __ is a constructor method in python and is automatically called to allocate memory when a \n",
    "new object / instance is created. All classes have a __ init __\n",
    "Method associated with them. It helps in distinguishing methods and attributes of a class from \n",
    "local variables.\n",
    "Example : \n",
    "# class definition\n",
    "Class student:\n",
    "Def__init__(self,fname,lname,age,section):\n",
    "Self. first name = f name\n",
    "Self. last name = l name\n",
    "Self. age            = age\n",
    "Self. section = section\n",
    "# creating  a new object\n",
    "Stu 1 = (“uma”,”devi”,22,”A2”)\n"
   ]
  },
  {
   "cell_type": "raw",
   "id": "ef293607",
   "metadata": {},
   "source": [
    "17.what is break, continue and pass in python?\n",
    "Break: the break statement terminates the loop immediately and the control flows to the statement \n",
    "    after the body of the loop.\n",
    "    Continue: the continue statement terminates the current iteration of the statement, skips the rest of the code in the current iteration and the control flows to the next iteration of the loop.\n",
    "Pass: the pass key word in python is generally used to fill up empty blocks and is similar to an empty statement represented by a semi-colon in Languages such as Java, C++, Java script etc.\n",
    "Example:\n",
    "Pat =[1,3,2,1,2,3,1,0,1,3]\n",
    "For p in pat:\n",
    "       Pass\n",
    "If (p == 0):\n",
    "Current = p\n",
    "break\n",
    "el if (p%2==0):\n",
    "     continue\n",
    "print(p)             # output = 13131\n",
    "print(current)    # output = 0\n",
    "\n"
   ]
  },
  {
   "cell_type": "raw",
   "id": "227afc00",
   "metadata": {},
   "source": [
    "18.what is docstring in python?\n",
    "* Documentation string or docstring is a multiline string used to document a specific code segment.\n",
    "* the docstring should describe what the function or method does."
   ]
  },
  {
   "cell_type": "raw",
   "id": "e1c4fa11",
   "metadata": {},
   "source": [
    "19.what is slicing in python?\n",
    "* as the name suggests, ‘slicing’ is taking parts of.\n",
    "* syntax for slicing is [start : stop  : step]\n",
    "* start: is the starting index from where to slice a list or tuple.\n",
    "* stop: is the ending index or where to stop.\n",
    "    *Step: is the number of steps to jump.\n",
    "* default value for start is 0, stop is number of items , step is 1.\n",
    "* slicing can be done on strings, arrays, lists, and tuples.\n",
    "Numbers =[1,2,3,4,5,6,7,8,9,10]\n",
    "Print(number[1::2])    # output = [2,4,6,8,10]\n"
   ]
  },
  {
   "cell_type": "raw",
   "id": "df6d7c58",
   "metadata": {},
   "source": [
    "20.What are Python namespaces?\n",
    "Ans: A namespace in python refers to the name which is assigned to each object in python. The objects \n",
    "    are variables and functions. \n",
    "There 4 types of namespace in python-\n",
    "1.\tBuilt-in namespace– These namespaces contain all the built-in objects in python and are available\n",
    "whenever python is running.\n",
    "2.\tGlobal namespace– These are namespaces for all the objects created at the level of the main\n",
    "program.\n",
    "3.\tEnclosing namespaces– These namespaces are at the higher level or outer function.\n",
    "4.\tLocal namespaces– These namespaces are at the local or inner function.\n"
   ]
  },
  {
   "cell_type": "markdown",
   "id": "c6cce96a",
   "metadata": {},
   "source": [
    "21.what are decorators in python?\n",
    "Ans: Decorators are used to add some design patterns to a function without changing its structure.\n",
    "    Decorators generally are defined before the function they are enhancing. To apply a decorator we\n",
    "    first define the decorator function. Then we write the function it is applied to and simply add \n",
    "    the decorator function above the function it has to be applied to. For this, we use the @ symbol \n",
    "    before the decorator.\n"
   ]
  },
  {
   "cell_type": "raw",
   "id": "4d7cf134",
   "metadata": {},
   "source": [
    "22.What are Dict and List comprehensions?\n",
    "Ans: Dictionary and list comprehensions are just another concise way to define dictionaries and lists.\n",
    "Example of list comprehension is-\n",
    "1\tx=[i for i in range(5)]\n",
    "The above code creates a list as below-\n",
    "1\n",
    "2\t4\n",
    "[0,1,2,3,4]\n",
    "Example of dictionary comprehension is-\n",
    "1\tx=[i : i+2 for i in range(5)]\n",
    "The above code creates a list as below-\n",
    "1\t[0: 2, 1: 3, 2: 4, 3: 5, 4: 6]\n",
    "\n"
   ]
  },
  {
   "cell_type": "raw",
   "id": "5d6fb2c2",
   "metadata": {},
   "source": [
    "23.What is the difference between .py and .pyc files?\n",
    "Ans: The .py files are the python source code files. While the .pyc files contain the bytecode of the\n",
    "    python files. .pyc files are created when the code is imported from some other source. The \n",
    "    interpreter converts the source .py files to .pyc files which helps by saving time.\n"
   ]
  },
  {
   "cell_type": "raw",
   "id": "f817d0cd",
   "metadata": {},
   "source": [
    "\n",
    "24.What are Keywords in Python?\n",
    "Ans: Keywords in python are reserved words that have special meaning.They are generally used to \n",
    "    define type of variables. Keywords cannot be used for variable or function names. There are \n",
    "    following 33 keywords in python-\n",
    "•\tAnd     * if     * elif      * else      * for   * while   * break  * as  * Def   * Lambda  \n",
    "* pass   * return    * true   * false   * try   * with   *class    * continue   *del   * except \n",
    "* finally   * from  * globally   \n",
    "•\t* import      * in     * is     * None     * Non local     * Raise   * yield\n",
    "•\tOr\n",
    "•\tNot\n",
    "\n"
   ]
  },
  {
   "cell_type": "raw",
   "id": "00ffa302",
   "metadata": {},
   "source": [
    "25.What are Literals in Python and explain about different Literals\n",
    "Ans: A literal in python source code represents a fixed value for primitive data types. There are \n",
    "    5 types of literals in python-\n",
    "1.\tString literals– A string literal is created by assigning some text enclosed in single or \n",
    "double quotes to a variable. To create multiline literals, assign the multiline text enclosed in\n",
    "triple quotes. Eg.name=”Tanya”\n",
    "2.\tA character literal– It is created by assigning a single character enclosed in double quotes.\n",
    "Eg. a=’t’\n",
    "3.\tNumeric literals include numeric values that can be either integer, floating point value, \n",
    "or a complex number. Eg. a=50\n",
    "4.\tBoolean literals– These can be 2 values- either True or False.\n",
    "5.\tLiteral Collections– These are of 4 types-\n",
    "a) List collections-Eg. a=[1,2,3,’Amit’]\n",
    "             b) Tuple literals- Eg. a=(5,6,7,8)\n",
    "c) Dictionary literals- Eg. dict={1: ’apple’, 2: ’mango, 3: ’banana`’}\n",
    "d) Set literals- Eg. {“Tanya”, “Rohit”, “Mohan”}\n",
    "* specially literal python has 1 special literal none which is used to return a null variable.\n"
   ]
  },
  {
   "cell_type": "raw",
   "id": "3803c859",
   "metadata": {},
   "source": [
    "\n",
    "26.What are the new features added in Python 3.9.0.0 version?\n",
    "Ans: The new features in Python 3.9.0.0 version are-\n",
    "•\t New Dictionary functions Merge(|) and Update(|=)\n",
    "•\tNew String Methods to Remove Prefixes and Suffixes\n",
    "•\tType Hinting Generics in Standard Collections\n",
    "•\tNew Parser based on PEG rather than LL1\n",
    "•\tNew modules like zoneinfo and graphlib\n",
    "•\tImproved Modules like ast, asyncio, etc.\n",
    "•\tOptimizations such as optimized idiom for assignment, signal handling, optimized python \n",
    "built ins, etc."
   ]
  },
  {
   "cell_type": "raw",
   "id": "2bdce38a",
   "metadata": {},
   "source": [
    "27. What are python modules? Name some commonly used built-in modules in Python?\n",
    "Ans: Python modules are files containing Python code. This code can either be functions classes or \n",
    "    variables. A Python module is a .py file containing executable code.\n",
    "Some of the commonly used built-in modules are:\n",
    "•\tos\n",
    "•\tsys\n",
    "•\tmath\n",
    "•\trandom\n",
    "•\tdata time\n",
    "•\tJSON\n"
   ]
  },
  {
   "cell_type": "raw",
   "id": "97566ea9",
   "metadata": {},
   "source": [
    "28. Is python case sensitive?\n",
    "Ans: Yes. Python is a case sensitive language.\n"
   ]
  },
  {
   "cell_type": "raw",
   "id": "94d87cbf",
   "metadata": {},
   "source": [
    "29.What is type conversion in Python?\n",
    "Ans: Type conversion refers to the conversion of one data type into another.\n",
    "int() – converts any data type into integer type\n",
    "float() – converts any data type into float type\n",
    "ord() – converts characters into integer\n",
    "hex() – converts integers to hexadecimal\n",
    "oct() – converts integer to octal\n",
    "tuple() – This function is used to convert to a tuple.\n",
    "set() – This function returns the type after converting to set.\n",
    "list() – This function is used to convert any data type to a list type.\n",
    "dict() – This function is used to convert a tuple of order (key, value) into a dictionary.\n",
    "str() – Used to convert integer into a string.\n",
    "complex(real,imag) – This function converts real numbers to complex(real,imag) number.\n"
   ]
  },
  {
   "cell_type": "raw",
   "id": "b8fc060a",
   "metadata": {},
   "source": [
    "30. Is indentation required in python?\n",
    "Ans: Indentation is necessary for Python. It specifies a block of code. All code within loops, \n",
    "    classes, functions, etc is specified within an indented block. It is usually done using four\n",
    "    space characters. If your code is not indented necessarily, it will not execute accurately and \n",
    "    will throw errors as well.\n"
   ]
  },
  {
   "cell_type": "raw",
   "id": "d9907ef4",
   "metadata": {},
   "source": [
    "31. What is the difference between Python Arrays and lists?\n",
    "Ans: Arrays and lists, in Python, have the same way of storing data. But, arrays can hold only a\n",
    "    single data type elements whereas lists can hold any data type elements.\n",
    "Example:\n",
    "1\n",
    "2\n",
    "3\n",
    "4\n",
    "5\timport array as arr\n",
    "My_Array=arr.array('i',[1,2,3,4])\n",
    "My_list=[1,'abc',1.20]\n",
    "print(My_Array)\n",
    "print(My_list)\n",
    "Output:\n",
    "array(‘i’, [1, 2, 3, 4]) [1, ‘abc’, 1.2]\n",
    "\n"
   ]
  },
  {
   "cell_type": "raw",
   "id": "9f1bb8b6",
   "metadata": {},
   "source": [
    "33. What are functions in Python?\n",
    "Ans: A function is a block of code which is executed only when it is called. To define a Python \n",
    "    function, the def keyword is used.\n",
    "Example:\n",
    "1\n",
    "2\n",
    "3\tdef Newfunc():\n",
    "print(\"Hi, Welcome to the world\")\n",
    "Newfunc(); #calling the function\n",
    "Output: Hi, Welcome to the world.\n"
   ]
  },
  {
   "cell_type": "raw",
   "id": "cb45b6cb",
   "metadata": {},
   "source": [
    "34.What is a lambda function?\n",
    "Ans: An anonymous function is known as a lambda function. This function can have any number \n",
    "    of parameters but, can have just one statement.\n",
    "Example:\n",
    "1\n",
    "2\ta = lambda x,y : x+y\n",
    "print(a(5, 6))\n",
    "Output: 11\n"
   ]
  },
  {
   "cell_type": "raw",
   "id": "6918e403",
   "metadata": {},
   "source": [
    "35. What does [::-1} do?\n",
    "Ans: [::-1] is used to reverse the order of an array or a sequence.\n",
    "For example:\n",
    "1\n",
    "2\n",
    "3\timport array as arr\n",
    "My_Array=arr.array('i',[1,2,3,4,5])\n",
    "My_Array[::-1]\n",
    "Output: array(‘i’, [5, 4, 3, 2, 1])\n",
    "[::-1] reprints a reversed copy of ordered data structures such as an array or a list. \n",
    "               the original array or list remains unchanged.\n"
   ]
  },
  {
   "cell_type": "raw",
   "id": "398bbe1a",
   "metadata": {},
   "source": [
    "36. What are python iterators?\n",
    "Ans: Iterators are objects which can be traversed though or iterated upon.\n",
    "\n"
   ]
  },
  {
   "cell_type": "raw",
   "id": "c8b804b9",
   "metadata": {},
   "source": [
    "\n",
    "37. How do you write comments in python?\n",
    "Ans: Comments in Python start with a # character. However, alternatively at times, commenting \n",
    "    is done using docstrings(strings enclosed within triple quotes).\n",
    "    example:\n",
    "        # iam uma \n"
   ]
  },
  {
   "cell_type": "raw",
   "id": "fcfb2f59",
   "metadata": {},
   "source": [
    "38. What is pickling and unpickling?\n",
    "Ans: Pickle module accepts any Python object and converts it into a string representation and \n",
    "    dumps it into a file by using dump function, this process is called pickling. While the \n",
    "    process of retrieving original Python objects from the stored string representation is called \n",
    "    unpickling.\n"
   ]
  },
  {
   "cell_type": "raw",
   "id": "8e1677d3",
   "metadata": {},
   "source": [
    "39. What are the generators in python?\n",
    "Ans: Functions that return an iterable set of items are called generators.\n"
   ]
  },
  {
   "cell_type": "raw",
   "id": "caa13110",
   "metadata": {},
   "source": [
    "40. How will you capitalize the first letter of string?\n",
    "Ans: In Python, the capitalize() method capitalizes the first letter of a string. If the string \n",
    "    already consists of a capital letter at the beginning, then, it returns the original string.\n"
   ]
  },
  {
   "cell_type": "raw",
   "id": "5642f164",
   "metadata": {},
   "source": [
    "41. How will you convert a string to all lowercase?\n",
    "Ans: To convert a string to lowercase, lower() function can be used.\n",
    "Example:\n",
    "1\n",
    "2\tstg='ABCD'\n",
    "print(stg.lower())\n",
    "Output: abcd\n"
   ]
  },
  {
   "cell_type": "raw",
   "id": "847a3a41",
   "metadata": {},
   "source": [
    "42. What is the usage of help() and dir() function in Python?\n",
    "Ans: Help() and dir() both functions are accessible from the Python interpreter and used for\n",
    "    viewing a consolidated dump of built-in functions. \n",
    "1.\tHelp() function: The help() function is used to display the documentation string and also\n",
    "    facilitates you to see the help related to modules, keywords, attributes, etc.\n",
    "2.\tDir() function: The dir() function is used to display the defined symbols\n"
   ]
  },
  {
   "cell_type": "raw",
   "id": "9aa0f64e",
   "metadata": {},
   "source": [
    "43. Whenever Python exits, why isn’t all the memory de-allocated?\n",
    "Ans:\n",
    "1.\tWhenever Python exits, especially those Python modules which are having circular references \n",
    "to other objects or the objects that are referenced from the global namespaces are not always \n",
    "de-allocated or freed.\n",
    "2.\tIt is impossible to de-allocate those portions of memory that are reserved by the C library.\n",
    "3.\tOn exit, because of having its own efficient clean up mechanism, Python would try to\n",
    "de-allocate/destroy every other object\n",
    "\n"
   ]
  },
  {
   "cell_type": "raw",
   "id": "2b581886",
   "metadata": {},
   "source": [
    "44. What is a dictionary in Python?\n",
    "Ans: The built-in datatypes in Python is called dictionary. It defines one-to-one relationship \n",
    "    between keys and values. Dictionaries contain pair of keys and their corresponding values. \n",
    "    Dictionaries are indexed by keys.\n",
    "Let’s take an example:\n",
    "The following example contains some keys. Country, Capital & PM. Their corresponding values are \n",
    "India, Delhi and Modi respectively.\n",
    "1\tdict={'Country':'India','Capital':'Delhi','PM':'Modi'}\n",
    "1\tprint dict[Country]\n",
    "Output:India\n",
    "1\tprint dict[Capital]\n",
    "Output:Delhi\n",
    "1\tprint dict[PM]\n",
    "Output:Modi\n"
   ]
  },
  {
   "cell_type": "raw",
   "id": "cf80b9f0",
   "metadata": {},
   "source": [
    "45. How can the ternary operators be used in python?\n",
    "Ans: The Ternary operator is the operator that is used to show the conditional statements.\n",
    "    This consists of the true or false values with a statement that has to be evaluated for it.\n",
    "Syntax:\n",
    "The Ternary operator will be given as:\n",
    "[on_true] if [expression] else [on_false]x, y = 25, 50big = x if x < y else y\n",
    "Example:\n",
    "The expression gets evaluated like if x<y else y, in this case if x<y is true then the value is\n",
    "returned as big=x and if it is incorrect then big=y will be sent as a result.\n"
   ]
  },
  {
   "cell_type": "raw",
   "id": "3d1f4c76",
   "metadata": {},
   "source": [
    "46. What does this mean: *args, **kwargs? And why would we use it?\n",
    "Ans: We use *args when we aren’t sure how many arguments are going to be passed to a function, \n",
    "    or if we want to pass a stored list or tuple of arguments to a function. **kwargs is used \n",
    "when we don’t know how many keyword arguments will be passed to a function, or it can be used to pass\n",
    "the values of a dictionary as keyword arguments. The identifiers args and kwargs."
   ]
  },
  {
   "cell_type": "raw",
   "id": "ef9b7023",
   "metadata": {},
   "source": [
    "47. What are Python packages?\n",
    "Ans: Python packages are namespaces containing multiple modules.\n"
   ]
  },
  {
   "cell_type": "raw",
   "id": "33a5b88f",
   "metadata": {},
   "source": [
    "48. What does len() do?\n",
    "Ans: It is used to determine the length of a string, a list, an array, etc.\n",
    "Example:\n",
    "1\n",
    "2\tstg='ABCD'\n",
    "len(stg)\n",
    "Output:4\n"
   ]
  },
  {
   "cell_type": "raw",
   "id": "c4b3aa36",
   "metadata": {},
   "source": [
    "49.How can files be deleted in Python?\n",
    "Ans: To delete a file in Python, you need to import the OS Module. After that, you need to \n",
    "    use the os.remove() function.\n",
    "Example:\n",
    "1\n",
    "2\timport os\n",
    "os.remove(\"xyz.txt\")\n",
    "\n"
   ]
  },
  {
   "cell_type": "raw",
   "id": "79c5fe7b",
   "metadata": {},
   "source": [
    "\n",
    "50. What are the built-in types of python?\n",
    "Ans: Built-in types in Python are as follows –\n",
    "•\tIntegers\n",
    "•\tFloating-point\n",
    "•\tComplex numbers\n",
    "•\tStrings\n",
    "•\tBoolean\n",
    "•\tBuilt-in functions\n"
   ]
  },
  {
   "cell_type": "raw",
   "id": "b86a6228",
   "metadata": {},
   "source": [
    "\n",
    "\n",
    "51. How to add values to a python array?\n",
    "Ans: Elements can be added to an array using the append(), extend() and the insert (i,x) functions.\n",
    "Example:\n",
    "\n",
    "\ta=arr.array('d', [1.1 , 2.1 ,3.1] )\n",
    "a.append(3.4)\n",
    "print(a)\n",
    "a.extend([4.5,6.3,6.8])\n",
    "print(a)\n",
    "a.insert(2,3.8)\n",
    "print(a)\n",
    "Output:\n",
    "array(‘d’, [1.1, 2.1, 3.1, 3.4])\n",
    "array(‘d’, [1.1, 2.1, 3.1, 3.4, 4.5, 6.3, 6.8])\n",
    "array(‘d’, [1.1, 2.1, 3.8, 3.1, 3.4, 4.5, 6.3, 6.8])\n"
   ]
  },
  {
   "cell_type": "raw",
   "id": "2b19f96e",
   "metadata": {},
   "source": [
    "52. How to remove values to a python array?\n",
    "Ans: Array elements can be removed using pop() or remove() method. The difference between these \n",
    "    two functions is that the former returns the deleted value whereas the latter does not.\n",
    "Example:\n",
    "1\n",
    "2\n",
    "3\n",
    "4\n",
    "5\ta=arr.array('d', [1.1, 2.2, 3.8, 3.1, 3.7, 1.2, 4.6])\n",
    "print(a.pop())\n",
    "print(a.pop(3))\n",
    "a.remove(1.1)\n",
    "print(a)\n",
    "Output:\n",
    "4.6\n",
    "3.1\n",
    "array(‘d’, [2.2, 3.8, 3.7, 1.2])\n",
    "\n"
   ]
  },
  {
   "cell_type": "raw",
   "id": "56b59321",
   "metadata": {},
   "source": [
    "53. Does Python have OOps concepts?\n",
    "Ans: Python is an object-oriented programming language. This means that any program can be solved \n",
    "    in python by creating an object model. However, Python can be treated as a procedural as well \n",
    "    as structural language\n"
   ]
  },
  {
   "cell_type": "raw",
   "id": "c7613d14",
   "metadata": {},
   "source": [
    "54. What are Python libraries? Name a few of them.\n",
    "\n",
    "Python libraries are a collection of Python packages. Some of the majorly used python libraries\n",
    "are – Numpy, Pandas, Matplotlib, Scikit-learn and many more.\n"
   ]
  },
  {
   "cell_type": "raw",
   "id": "3f58a03a",
   "metadata": {},
   "source": [
    "55. What is split used for?\n",
    "The split() method is used to separate a given String in Python.\n",
    "Example:\n",
    "1\n",
    "2\ta=\"interview python\"\n",
    "print(a.split())\n",
    "Output:  [‘interview’, ‘python’]\n"
   ]
  },
  {
   "cell_type": "raw",
   "id": "9e193a2e",
   "metadata": {},
   "source": [
    "56. How to import modules in python?\n",
    "Modules can be imported using the import keyword.  You can import modules in three ways-\n",
    "Example:\n",
    "1\n",
    "2\n",
    "3\timport array           #importing using the original module name\n",
    "import array as arr    # importing using an alias name\n",
    "from array import *    #imports everything present in the array module\n",
    "\n"
   ]
  },
  {
   "cell_type": "raw",
   "id": "c0730c88",
   "metadata": {},
   "source": [
    "57. How are classes created in Python? \n",
    "Ans: Class in Python is created using the class keyword.\n",
    "Example:\n",
    "\tclass Employee:\n",
    "def __init__(self, name):\n",
    "self.name = name\n",
    "E1=Employee(\"abc\")\n",
    "print(E1.name)\n",
    "Output: abc\n"
   ]
  },
  {
   "cell_type": "raw",
   "id": "8202fcdf",
   "metadata": {},
   "source": [
    "58. Does python support multiple inheritance?\n",
    "Ans: Multiple inheritance means that a class can be derived from more than one parent classes. \n",
    "    Python does support multiple inheritance, unlike Java.\n"
   ]
  },
  {
   "cell_type": "raw",
   "id": "9fced8a6",
   "metadata": {},
   "source": [
    "59. What is Polymorphism in Python?\n",
    "Ans: Polymorphism means the ability to take multiple forms. So, for instance, if the parent class \n",
    "    has a method named ABC then the child class also can have a method with the same name ABC having \n",
    "    its own parameters and variables. Python allows polymorphism.\n"
   ]
  },
  {
   "cell_type": "raw",
   "id": "90c56f67",
   "metadata": {},
   "source": [
    "60. Define encapsulation in Python?\n",
    "Ans: Encapsulation means binding the code and the data together. A Python class in an example of \n",
    "    encapsulation.\n"
   ]
  },
  {
   "cell_type": "raw",
   "id": "1fdf8d2c",
   "metadata": {},
   "source": [
    "61. How do you do data abstraction in Python?\n",
    "Ans: Data Abstraction is providing only the required details and hiding the implementation from \n",
    "    the world. It can be achieved in Python by using interfaces and abstract classes.\n"
   ]
  },
  {
   "cell_type": "raw",
   "id": "c8c6033c",
   "metadata": {},
   "source": [
    "62.Does python make use of access specifiers?\n",
    "Ans: Python does not deprive access to an instance variable or function. Python lays down the\n",
    "    concept of prefixing the name of the variable, function or method with a single or double \n",
    "    underscore to imitate the behavior of protected and private access specifiers\n"
   ]
  },
  {
   "cell_type": "raw",
   "id": "834c0377",
   "metadata": {},
   "source": [
    "63. How to create an empty class in Python? \n",
    "Ans: An empty class is a class that does not have any code defined within its block. \n",
    "    It can be created using the pass keyword. However, you can create objects of this \n",
    "class outside the class itself. IN PYTHON THE PASS command does nothing when its executed. \n",
    "it’s a null statement. \n",
    "For example-\n",
    "\tclass a:\n",
    "  pass\n",
    "obj=a()\n",
    "obj.name=\"xyz\"\n",
    "print(\"Name = \",obj.name)\n",
    "Output: \n",
    "Name =  xyz\n",
    "66. What does \n"
   ]
  },
  {
   "cell_type": "raw",
   "id": "5e012f4a",
   "metadata": {},
   "source": [
    "64. What does an object() do?\n",
    "Ans: It returns a featureless object that is a base for all classes. Also, it does not take \n",
    "    any parameters.\n"
   ]
  },
  {
   "cell_type": "raw",
   "id": "3784bf36",
   "metadata": {},
   "source": [
    "\n",
    "65. Explain split(), sub(), subn() methods of “re” module in Python.\n",
    "Ans: To modify the strings, Python’s “re” module is providing 3 methods. They are:\n",
    "•\tsplit() – uses a regex pattern to “split” a given string into a list.\n",
    "•\tsub() – finds all substrings where the regex pattern matches and then replace them with a \n",
    "different string\n",
    "•\tsubn() – it is similar to sub() and also returns the new string along with the no. of \n",
    "replacements.\n"
   ]
  },
  {
   "cell_type": "raw",
   "id": "2e3919a7",
   "metadata": {},
   "source": [
    "66. How To Save An Image Locally Using Python Whose URL Address I Already Know?\n",
    "Ans: We will use the following code to save an image locally from an URL address\n",
    "1\n",
    "2\timport urllib.request\n",
    "urllib.request.urlretrieve(\"URL\", \"local-filename.jpg\")\n",
    "\n"
   ]
  },
  {
   "cell_type": "raw",
   "id": "e99c07cf",
   "metadata": {},
   "source": [
    "67. Explain split() and join() functions in Python?\n",
    "•\tYou can use split() function to split a string based on a delimiter to a list of strings.\n",
    "•\tYou can use join() function to join a list of strings based on a delimiter to give a single\n",
    "string.\n",
    "string = \"This is a string.\"\n",
    "string_list = string.split(' ') #delimiter is ‘space’ character or ‘ ‘\n",
    "print(string_list) #output: ['This', 'is', 'a', 'string.']\n",
    "print(' '.join(string_list)) #output: This is a string.\n"
   ]
  },
  {
   "cell_type": "raw",
   "id": "ceb4443e",
   "metadata": {},
   "source": [
    "68. Can you easily check if all characters in the given string is alphanumeric?\n",
    "This can be easily done by making use of the isalnum() method that returns true in case the string\n",
    "has only alphanumeric characters.\n",
    "For Example -\n",
    "\"abdc1321\".isalnum() #Output: True\n",
    "\"xyz@123$\".isalnum() #Output: False\n",
    "\n"
   ]
  },
  {
   "cell_type": "raw",
   "id": "ddd63498",
   "metadata": {},
   "source": [
    "69. Are there any tools for identifying bugs and performing static analysis in python?\n",
    "Yes, there are tools like PyChecker and Pylint which are used as static analysis and linting tools \n",
    "respectively. PyChecker helps find bugs in python source code files and raises alerts for code \n",
    "issues and their complexity. Pylint checks for the module’s coding standards and supports different\n",
    "plugins to enable custom features to meet this requirement.\n"
   ]
  },
  {
   "cell_type": "raw",
   "id": "83be3784",
   "metadata": {},
   "source": [
    "\n",
    "70. Differentiate between deep and shallow copies.\n",
    "•\tShallow copy does the task of creating new objects storing references of original elements. \n",
    "This does not undergo recursion to create copies of nested objects. It just copies the reference\n",
    "details of nested objects.\n",
    "•\tDeep copy creates an independent and new copy of an object and even copies all the nested \n",
    "objects of the original element recursively\n"
   ]
  },
  {
   "cell_type": "raw",
   "id": "2016a12f",
   "metadata": {},
   "source": [
    "71. What is main function in python? How do you invoke it?\n",
    "In the world of programming languages, the main is considered as an entry point of execution for \n",
    "a program. But in python, it is known that the interpreter serially interprets the file line-by-line.\n",
    "This means that python does not provide main() function explicitly. \n",
    "But this doesn't mean that we cannot simulate the execution of main. This can be done by defining \n",
    "user-defined main() function and by using the __name__ property of python file. \n",
    "This __name__ variable is a special built-in variable that points to the name of the current module.\n",
    "This can be done as shown below:\n",
    "def main():\n",
    "   print(\"Hi Interview task!\")\n",
    "   if __name__==\"__main__\":\n",
    "   main()\n",
    "\n"
   ]
  },
  {
   "cell_type": "raw",
   "id": "08e9e07b",
   "metadata": {},
   "source": [
    "72.what are the different parameter passing mechanisms in python ?\n",
    "A. ”python offers two parameter passing mechanisms.these are ‘pass by reference’ and ‘pass by value’.\n"
   ]
  },
  {
   "cell_type": "raw",
   "id": "bbd362b7",
   "metadata": {},
   "source": [
    "73. What Is the Difference Between Del and Remove() on Lists?\n",
    "del\tremove()\n",
    "•\tdel removes all elements of a list within a given range \n",
    "•\tSyntax: del list[start:end]\t•\tremove() removes the first occurrence of a particular character \n",
    "•\tSyntax: list.remove(element)\n"
   ]
  },
  {
   "cell_type": "raw",
   "id": "57b12f4c",
   "metadata": {},
   "source": [
    "74.why do we use join () function in python?\n",
    "“the join()function is a string method. This method returns a string value. This function \n",
    "offers the users a way to concatenate strings”.\n"
   ]
  },
  {
   "cell_type": "raw",
   "id": "7e3e44da",
   "metadata": {},
   "source": [
    "75.what are the types of operators in python?\n",
    "* “python offers a variety of operators to handle different types of operations. \n",
    "These are arithmetic operators, relational operators, assignment operators, logical operators, \n",
    "identity operators, membership operators, and itwise operators.”\n"
   ]
  },
  {
   "cell_type": "raw",
   "id": "fa20b5fe",
   "metadata": {},
   "source": [
    "76.what is  a tuple in python?\n",
    "“A tuple is one of the built_in data types in python. It allows the users to store multiple items \n",
    "in a single variable. It is unchangeable. A tuple uses () brackets instead of the [] brackets. \n",
    "It is not possible to remove an element from a tuple;\n",
    "However,it is possible to find an element in a tuple. A tuple is ordered, so we can use indexing \n",
    "to retrieve elements. A tuple also lets users traverse elements in the reverse order. \n",
    "This can be done by using negative indexing. Some methods that are supported by tuple are max(), \n",
    "sum(), len(), sorted() etc.”\n"
   ]
  },
  {
   "cell_type": "raw",
   "id": "3562f070",
   "metadata": {},
   "source": [
    "77. How Is Multithreading Achieved in Python?\n",
    "Multithreading usually implies that multiple threads are executed concurrently. The Python Global \n",
    "Interpreter Lock doesn't allow more than one thread to hold the Python interpreter at that \n",
    "particular point of time. So multithreading in python is achieved through context switching. \n",
    "It is quite different from multiprocessing which actually opens up multiple processes across \n",
    "multiple threads.\n"
   ]
  },
  {
   "cell_type": "raw",
   "id": "b091c45f",
   "metadata": {},
   "source": [
    "78. What Does the // Operator Do?\n",
    "In Python, the / operator performs division and returns the quotient in the float.\n",
    "For example: 5 / 2 returns 2.5\n",
    "The // operator, on the other hand, returns the quotient in integer.\n",
    "For example: 5 // 2 returns 2\n"
   ]
  },
  {
   "cell_type": "raw",
   "id": "c4be1e1c",
   "metadata": {},
   "source": [
    "79. What Does the ‘is’ Operator Do?\n",
    "The ‘is’ operator compares the id of the two objects. \n",
    "list1=[1,2,3]\n",
    "list2=[1,2,3]\n",
    "list3=list1\n",
    "list1 == list2 🡪 True\n",
    "list1 is list2 🡪 False\n",
    "list1 is list3 🡪 True\n"
   ]
  },
  {
   "cell_type": "raw",
   "id": "5b5d4a31",
   "metadata": {},
   "source": [
    " 80.How Would You Remove All Leading Whitespace in a String?\n",
    "Python provides the inbuilt function lstrip() to remove all leading spaces from a string.\n",
    ">>“      Python”.lstrip\n",
    "Output: Python\n"
   ]
  },
  {
   "cell_type": "code",
   "execution_count": null,
   "id": "995e411a",
   "metadata": {},
   "outputs": [],
   "source": []
  }
 ],
 "metadata": {
  "kernelspec": {
   "display_name": "Python 3 (ipykernel)",
   "language": "python",
   "name": "python3"
  },
  "language_info": {
   "codemirror_mode": {
    "name": "ipython",
    "version": 3
   },
   "file_extension": ".py",
   "mimetype": "text/x-python",
   "name": "python",
   "nbconvert_exporter": "python",
   "pygments_lexer": "ipython3",
   "version": "3.9.12"
  }
 },
 "nbformat": 4,
 "nbformat_minor": 5
}
